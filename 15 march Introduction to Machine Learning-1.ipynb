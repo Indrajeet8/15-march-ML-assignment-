{
 "cells": [
  {
   "cell_type": "markdown",
   "id": "81211c70-f922-43c8-8400-b000bfd36da2",
   "metadata": {},
   "source": [
    "Introduction to\n",
    "Machine Learning-1"
   ]
  },
  {
   "cell_type": "raw",
   "id": "5b46adb0-1c06-4e94-b27a-34ed4f261753",
   "metadata": {},
   "source": []
  },
  {
   "cell_type": "code",
   "execution_count": null,
   "id": "25e7def5-8338-40e7-9fe6-dde81472400b",
   "metadata": {},
   "outputs": [],
   "source": [
    "#Q1 explain the fallowing with an example \n",
    "1.artificial Intelligence\n",
    "2. machine learnig \n",
    "3.deep leanring "
   ]
  },
  {
   "cell_type": "raw",
   "id": "37c06ae6-ddee-4cf6-95d3-bdcc99b3c1de",
   "metadata": {},
   "source": [
    "Ans."
   ]
  },
  {
   "cell_type": "raw",
   "id": "2ca5d5ed-4663-40a6-a223-64fdb5479639",
   "metadata": {},
   "source": [
    "Artificial intelligence is the simulation of human intelligence processes by machines, especially computer systems. Specific applications of AI include expert systems, natural language processing, speech recognition and machine vision.\n",
    "\n",
    "Machine learning is a branch of artificial intelligence (AI) and computer science which focuses on the use of data and algorithms to imitate the way that humans learn, gradually improving its accuracy.\n",
    "\n",
    "\n",
    "Deep learning is a type of machine learning and artificial intelligence (AI) that imitates the way humans gain certain types of knowledge."
   ]
  },
  {
   "cell_type": "code",
   "execution_count": null,
   "id": "6fd0d539-8560-4f8b-9e20-3c85019e7ac7",
   "metadata": {},
   "outputs": [],
   "source": []
  },
  {
   "cell_type": "code",
   "execution_count": 1,
   "id": "d3a0daf5-2da5-4f9a-9b4d-2c8a0d33a419",
   "metadata": {},
   "outputs": [],
   "source": [
    "#Q2. what is supervised learning list some example of supervised learnig  \n"
   ]
  },
  {
   "cell_type": "raw",
   "id": "ecc52419-ebef-4d1e-ba3e-8d8b5ffe886d",
   "metadata": {},
   "source": [
    "supervised learning is types of machine learnig in which machine are trained using welll \"labelled\" training data amd on basis of that data machines predict the output . the labelled data means some input data already tagged with the correct out put \n"
   ]
  },
  {
   "cell_type": "code",
   "execution_count": null,
   "id": "449618e7-f035-48de-a06e-0f296481f0a0",
   "metadata": {},
   "outputs": [],
   "source": []
  },
  {
   "cell_type": "code",
   "execution_count": 2,
   "id": "b9ee06f6-fcd8-4866-beb7-ed7dcc6b911a",
   "metadata": {},
   "outputs": [],
   "source": [
    "#Q3. what is unsupervised learning list some example of unsupervised learnig  \n"
   ]
  },
  {
   "cell_type": "raw",
   "id": "2cfd5c78-9752-4c56-953d-e63674a1fe63",
   "metadata": {},
   "source": [
    "Unsupervised learning also known as unsupervised machine learing uses machine learong  uses machine learing algorithms to analyze and cluster unlabeled datasets  \n",
    "\n",
    "Example: Suppose the unsupervised learning algorithm is given an input dataset containing images of different types of cats and dogs"
   ]
  },
  {
   "cell_type": "code",
   "execution_count": null,
   "id": "a820e46d-7a39-49be-a72c-b72c84158144",
   "metadata": {},
   "outputs": [],
   "source": []
  },
  {
   "cell_type": "code",
   "execution_count": 3,
   "id": "2ff22e34-9b5b-4bf8-a893-739647cf80b1",
   "metadata": {},
   "outputs": [],
   "source": [
    "#Q4. what is diffrence between AI,ML,DL AND DS"
   ]
  },
  {
   "cell_type": "raw",
   "id": "6df29393-3b23-4eeb-9cfd-ef97eb4b672b",
   "metadata": {},
   "source": [
    "AI is computer algorthim which exhabits intellgence through decsion makeing \n",
    "ML is an AI algorithm which allows system to learn from data os ML algorthm that uses deep neaural networks to analyze data and provide output accordingly . search Trees and much complex math is involved on AI"
   ]
  },
  {
   "cell_type": "code",
   "execution_count": null,
   "id": "32edcbd0-cbe1-4fcd-8ae8-fbe722ad2131",
   "metadata": {},
   "outputs": [],
   "source": []
  },
  {
   "cell_type": "code",
   "execution_count": 4,
   "id": "8df3216f-9a66-42da-bb64-60047921304e",
   "metadata": {},
   "outputs": [],
   "source": [
    "#Q5. what are the main diffrence between supervised unsuperrviisedd and semi supervised learing "
   ]
  },
  {
   "cell_type": "markdown",
   "id": "a5c5a0cc-611e-4b44-91a3-33df12991d93",
   "metadata": {},
   "source": [
    "The mman diffrence between supervised and unsupervised learing Labeled data . the main distinction between the two approaches is use of labeled datasets to put it simplely supervised learing uses labeled input and output data while an unsupervised learong algorthim does not "
   ]
  },
  {
   "cell_type": "code",
   "execution_count": null,
   "id": "07b42dcd-0748-440b-921b-3e9ca4233f3e",
   "metadata": {},
   "outputs": [],
   "source": []
  },
  {
   "cell_type": "code",
   "execution_count": 5,
   "id": "5265d9d3-4966-4d19-bf43-16ceb13f71e4",
   "metadata": {},
   "outputs": [],
   "source": [
    "#Q6. what is train , test andvalidation split "
   ]
  },
  {
   "cell_type": "code",
   "execution_count": null,
   "id": "8ab6d2a9-97dc-4328-af7a-433b7734df4a",
   "metadata": {},
   "outputs": [],
   "source": []
  },
  {
   "cell_type": "markdown",
   "id": "14437af8-ab83-4682-afe7-da3e7d45c938",
   "metadata": {},
   "source": [
    "The train-validation-test split is fundamental to the development of robust and reliable machine learning models. Put very simply: The goal: Create a neural network that generalizes well to new data. The motto: Never train that model on test data "
   ]
  },
  {
   "cell_type": "code",
   "execution_count": null,
   "id": "19e35f64-ef30-4aa2-a54f-15f7cf68fddc",
   "metadata": {},
   "outputs": [],
   "source": []
  },
  {
   "cell_type": "code",
   "execution_count": null,
   "id": "a3776464-a50b-4435-9eac-2e76dc625809",
   "metadata": {},
   "outputs": [],
   "source": []
  }
 ],
 "metadata": {
  "kernelspec": {
   "display_name": "Python 3 (ipykernel)",
   "language": "python",
   "name": "python3"
  },
  "language_info": {
   "codemirror_mode": {
    "name": "ipython",
    "version": 3
   },
   "file_extension": ".py",
   "mimetype": "text/x-python",
   "name": "python",
   "nbconvert_exporter": "python",
   "pygments_lexer": "ipython3",
   "version": "3.10.8"
  }
 },
 "nbformat": 4,
 "nbformat_minor": 5
}
